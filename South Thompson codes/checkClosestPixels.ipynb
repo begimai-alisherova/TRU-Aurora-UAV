{
 "cells": [
  {
   "cell_type": "markdown",
   "id": "f2ef0627",
   "metadata": {},
   "source": [
    "This script processes large geospatial datasets to analyze missing values using a breadth-first search (BFS) approach. It calculates the distance to the nearest valid pixel for each missing value and generates a summary of the distance distribution. It calculates the distance to the nearest valid pixel for each missing value and generates a summary of the distance distribution. Using chunk-based processing, it outputs a distance summary for missing values (e.g., how many missing points are 1, 2, or more steps away)."
   ]
  },
  {
   "cell_type": "code",
   "execution_count": 1,
   "id": "ee2f7c9b",
   "metadata": {},
   "outputs": [],
   "source": [
    "import pandas as pd\n",
    "from collections import deque"
   ]
  },
  {
   "cell_type": "code",
   "execution_count": 2,
   "id": "69a3cbfe",
   "metadata": {},
   "outputs": [],
   "source": [
    "# Define chunk size for windowing\n",
    "chunk_size = 1000  # Adjust based on memory\n",
    "\n",
    "# Define function to calculate distance\n",
    "def calculate_distance(lat1, lon1, lat2, lon2):\n",
    "    return abs(lat1 - lat2) + abs(lon1 - lon2)\n",
    "\n",
    "# Define function to find the nearest non-missing pixel\n",
    "def find_nearest_pixel(df, feature, missing_lat, missing_lon):\n",
    "    visited = set()\n",
    "    queue = deque([(missing_lat, missing_lon, 0)])  # Start with distance 0\n",
    "    while queue:\n",
    "        lat, lon, dist = queue.popleft()\n",
    "        if (lat, lon) in visited:\n",
    "            continue\n",
    "        visited.add((lat, lon))\n",
    "        \n",
    "        # Check if current pixel has a valid value\n",
    "        value = df[(df['Latitude'] == lat) & (df['Longitude'] == lon)][feature]\n",
    "        if not value.empty and pd.notna(value.values[0]):\n",
    "            return dist  # Return the distance to the nearest non-missing pixel\n",
    "        \n",
    "        # Add neighbors to the queue\n",
    "        for d_lat, d_lon in [(-0.5, 0), (0.5, 0), (0, -0.5), (0, 0.5)]:\n",
    "            queue.append((lat + d_lat, lon + d_lon, dist + 1))\n",
    "    \n",
    "    return float('inf')  # If no non-missing pixel is found\n",
    "\n",
    "# Function to process missing values and calculate distances\n",
    "def process_missing_values_with_distances(df, feature_columns):\n",
    "    distance_summary = {}\n",
    "\n",
    "    for feature in feature_columns:\n",
    "        for index, row in df[df[feature].isna()].iterrows():\n",
    "            lat, lon = row['Latitude'], row['Longitude']\n",
    "            distance = find_nearest_pixel(df, feature, lat, lon)\n",
    "            \n",
    "            # Update the distance summary\n",
    "            if distance not in distance_summary:\n",
    "                distance_summary[distance] = 0\n",
    "            distance_summary[distance] += 1\n",
    "    \n",
    "    return distance_summary"
   ]
  },
  {
   "cell_type": "code",
   "execution_count": null,
   "id": "6b4aaa45",
   "metadata": {},
   "outputs": [],
   "source": [
    "# Load and process file in chunks\n",
    "distance_summaries = {}\n",
    "\n",
    "for chunk in pd.read_csv('C:/Users/T00701453/Downloads/combined26.csv', chunksize=chunk_size):\n",
    "    # Ensure latitude and longitude are floats\n",
    "    chunk['Latitude'] = chunk['Latitude'].astype(float)\n",
    "    chunk['Longitude'] = chunk['Longitude'].astype(float)\n",
    "\n",
    "    # List of feature columns to process for missing values\n",
    "    feature_columns = [col for col in chunk.columns if col not in ['Latitude', 'Longitude']]\n",
    "\n",
    "    # Calculate distance summary for this chunk\n",
    "    chunk_distances = process_missing_values_with_distances(chunk, feature_columns)\n",
    "    \n",
    "    # Update overall distance summaries\n",
    "    for distance, count in chunk_distances.items():\n",
    "        if distance not in distance_summaries:\n",
    "            distance_summaries[distance] = 0\n",
    "        distance_summaries[distance] += count\n",
    "\n",
    "# Print final summary\n",
    "print(\"Summary of missing value distances:\")\n",
    "for distance, count in sorted(distance_summaries.items()):\n",
    "    if distance == float('inf'):\n",
    "        print(f\"{count} data points have no nearby non-missing pixels.\")\n",
    "    else:\n",
    "        print(f\"{count} data points have the closest pixels {distance} distance(s) away.\")"
   ]
  }
 ],
 "metadata": {
  "kernelspec": {
   "display_name": "Python 3 (ipykernel)",
   "language": "python",
   "name": "python3"
  },
  "language_info": {
   "codemirror_mode": {
    "name": "ipython",
    "version": 3
   },
   "file_extension": ".py",
   "mimetype": "text/x-python",
   "name": "python",
   "nbconvert_exporter": "python",
   "pygments_lexer": "ipython3",
   "version": "3.9.12"
  }
 },
 "nbformat": 4,
 "nbformat_minor": 5
}
