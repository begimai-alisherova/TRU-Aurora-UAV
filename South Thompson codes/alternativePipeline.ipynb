{
 "cells": [
  {
   "cell_type": "markdown",
   "id": "02e64f76",
   "metadata": {},
   "source": [
    "This script implements a semi-supervised learning approach using labeled and unlabeled geospatial data. A Random Forest classifier is first trained on labeled data, evaluated, and then used to generate pseudo-labels for the unlabeled dataset. High-confidence pseudo-labels are identified and combined with the labeled data to retrain the model, improving its performance. The final model is evaluated on the labeled test set, and predictions are generated for the remaining unlabeled data. This method extends the training dataset using confident predictions, enhancing model accuracy with limited labeled data."
   ]
  },
  {
   "cell_type": "code",
   "execution_count": null,
   "id": "e4931aff",
   "metadata": {},
   "outputs": [],
   "source": [
    "# Import necessary libraries\n",
    "import pandas as pd\n",
    "import numpy as np\n",
    "from sklearn.ensemble import RandomForestClassifier\n",
    "from sklearn.metrics import accuracy_score, classification_report\n",
    "from sklearn.preprocessing import StandardScaler\n",
    "from sklearn.model_selection import train_test_split\n",
    "\n",
    "# File paths\n",
    "combined_file = r'C:/Users/T00701453/Downloads/combined.csv'\n",
    "ground_truth_file = r'C:/Users/T00701453/Downloads/gt.csv'\n",
    "\n",
    "# Load datasets\n",
    "combined_df = pd.read_csv(combined_file)\n",
    "ground_truth_df = pd.read_csv(ground_truth_file)\n",
    "\n",
    "# Merge datasets to create the labeled set\n",
    "labeled_df = pd.merge(combined_df, ground_truth_df, on=['Latitude', 'Longitude'], how='inner')\n",
    "\n",
    "# Separate labeled data into features (X) and labels (y)\n",
    "X_labeled = labeled_df.drop(columns=['Latitude', 'Longitude', 'Labels'])\n",
    "y_labeled = labeled_df['Labels']\n",
    "\n",
    "# Unlabeled dataset: Keep rows that are NOT in the ground truth\n",
    "unlabeled_df = combined_df[~combined_df[['Latitude', 'Longitude']].isin(ground_truth_df[['Latitude', 'Longitude']]).all(axis=1)]\n",
    "X_unlabeled = unlabeled_df.drop(columns=['Latitude', 'Longitude'])\n",
    "\n",
    "# Scale both labeled and unlabeled features\n",
    "scaler = StandardScaler()\n",
    "X_labeled_scaled = scaler.fit_transform(X_labeled)\n",
    "X_unlabeled_scaled = scaler.transform(X_unlabeled)\n",
    "\n",
    "# Split labeled data for initial supervised learning\n",
    "X_train, X_test, y_train, y_test = train_test_split(X_labeled_scaled, y_labeled, test_size=0.3, random_state=42)\n",
    "\n",
    "# Step 1: Train initial Random Forest on labeled data\n",
    "rf_model = RandomForestClassifier(random_state=42)\n",
    "rf_model.fit(X_train, y_train)\n",
    "\n",
    "# Evaluate on labeled test set\n",
    "y_pred = rf_model.predict(X_test)\n",
    "print(f\"Initial Accuracy on Labeled Data: {accuracy_score(y_test, y_pred) * 100:.2f}%\")\n",
    "print(\"\\nClassification Report (Initial):\\n\", classification_report(y_test, y_pred))\n",
    "\n",
    "# Step 2: Predict on unlabeled data\n",
    "pseudo_labels = rf_model.predict(X_unlabeled_scaled)\n",
    "pseudo_label_probs = rf_model.predict_proba(X_unlabeled_scaled)\n",
    "\n",
    "# Step 3: Select high-confidence predictions (e.g., confidence > 0.95)\n",
    "confidence_threshold = 0.95\n",
    "high_confidence_indices = np.max(pseudo_label_probs, axis=1) > confidence_threshold\n",
    "X_pseudo = X_unlabeled_scaled[high_confidence_indices]\n",
    "y_pseudo = pseudo_labels[high_confidence_indices]\n",
    "\n",
    "print(f\"Number of high-confidence pseudo-labeled points: {len(y_pseudo)}\")\n",
    "\n",
    "# Step 4: Combine labeled data with high-confidence pseudo-labeled data\n",
    "X_combined = np.vstack((X_labeled_scaled, X_pseudo))\n",
    "y_combined = np.hstack((y_labeled, y_pseudo))\n",
    "\n",
    "# Step 5: Retrain the model on the combined dataset\n",
    "rf_model.fit(X_combined, y_combined)\n",
    "\n",
    "# Step 6: Evaluate on the original test set (from labeled data)\n",
    "y_pred_final = rf_model.predict(X_test)\n",
    "print(f\"Final Accuracy after Semi-Supervised Learning: {accuracy_score(y_test, y_pred_final) * 100:.2f}%\")\n",
    "print(\"\\nClassification Report (Final):\\n\", classification_report(y_test, y_pred_final))"
   ]
  }
 ],
 "metadata": {
  "kernelspec": {
   "display_name": "Python 3 (ipykernel)",
   "language": "python",
   "name": "python3"
  },
  "language_info": {
   "codemirror_mode": {
    "name": "ipython",
    "version": 3
   },
   "file_extension": ".py",
   "mimetype": "text/x-python",
   "name": "python",
   "nbconvert_exporter": "python",
   "pygments_lexer": "ipython3",
   "version": "3.9.12"
  }
 },
 "nbformat": 4,
 "nbformat_minor": 5
}
