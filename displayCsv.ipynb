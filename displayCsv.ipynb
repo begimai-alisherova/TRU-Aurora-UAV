{
 "cells": [
  {
   "cell_type": "markdown",
   "id": "d74e1db8-802c-4ffc-906e-75de49944f7b",
   "metadata": {},
   "source": [
    "This file was used to display the summary for csv files and to check whether 2 files are similar or have any mismatched records."
   ]
  },
  {
   "cell_type": "markdown",
   "id": "5060cf60-c0ce-4551-bb68-165dc42ce70f",
   "metadata": {
    "jp-MarkdownHeadingCollapsed": true
   },
   "source": [
    "# Displaying csv"
   ]
  },
  {
   "cell_type": "code",
   "execution_count": 1,
   "id": "e3ab5145",
   "metadata": {},
   "outputs": [],
   "source": [
    "import pandas as pd"
   ]
  },
  {
   "cell_type": "code",
   "execution_count": 2,
   "id": "93684b14",
   "metadata": {},
   "outputs": [],
   "source": [
    "def display_csv_summary(csv_file):\n",
    "    # Count total number of rows\n",
    "    total_rows = sum(1 for _ in open(csv_file)) - 1  # Subtract 1 for the header\n",
    "    print(f\"Total number of rows: {total_rows}\\n\")\n",
    "\n",
    "    # Read the first 10 rows\n",
    "    first_10_rows = pd.read_csv(csv_file, nrows=10)\n",
    "    print(\"First 10 rows:\")\n",
    "    print(first_10_rows)\n",
    "\n",
    "    # Read the last 10 rows\n",
    "    skip_rows = max(0, total_rows - 10)  # Calculate rows to skip\n",
    "    last_10_rows = pd.read_csv(csv_file, skiprows=skip_rows)\n",
    "    print(\"\\nLast 10 rows:\")\n",
    "    print(last_10_rows)"
   ]
  },
  {
   "cell_type": "code",
   "execution_count": 4,
   "id": "8e68c1c0",
   "metadata": {},
   "outputs": [
    {
     "name": "stdout",
     "output_type": "stream",
     "text": [
      "Total number of rows: 97723510\n",
      "\n",
      "First 10 rows:\n",
      "     Latitude  Longitude    MS_EVI  MS_GNDVI  MS_MSAVI  MS_MSAVI2    MS_RVI  \\\n",
      "0  1400299.25  648376.25  0.201649  0.416844  0.022500   0.169442  0.459777   \n",
      "1  1400299.75  648376.25  0.197016  0.418108  0.015439   0.166107  0.472447   \n",
      "2  1400299.25  648375.75  0.190691  0.410849  0.016375   0.163584  0.470262   \n",
      "3  1400299.75  648375.75  0.175916  0.401864 -0.001335   0.151781  0.502463   \n",
      "4  1400300.25  648375.75  0.214259  0.454431  0.027545   0.182095  0.453454   \n",
      "5  1400300.75  648375.75  0.248673  0.486981  0.055050   0.203986  0.410764   \n",
      "6  1400301.25  648375.75  0.198513  0.424723  0.012199   0.164038  0.478180   \n",
      "7  1400301.75  648375.75  0.135422  0.348544 -0.043367   0.118114  0.585957   \n",
      "8  1400302.25  648375.75  0.119027  0.338851 -0.055900   0.106300  0.614641   \n",
      "9  1400302.75  648375.75  0.128040  0.360901 -0.043781   0.112834  0.589773   \n",
      "\n",
      "   Terrain_aspect  Terrain_chnl_base  Terrain_chnl_dist  ...  \\\n",
      "0        5.072158          361.95224                0.0  ...   \n",
      "1        4.170292          362.12643                0.0  ...   \n",
      "2        2.192349          362.01776                0.0  ...   \n",
      "3        4.059625          361.95580                0.0  ...   \n",
      "4        4.043305          362.18317                0.0  ...   \n",
      "5        4.507250          362.41248                0.0  ...   \n",
      "6        4.441269          362.71060                0.0  ...   \n",
      "7        4.483613          363.05826                0.0  ...   \n",
      "8        4.439079          363.45450                0.0  ...   \n",
      "9        4.702170          363.71515                0.0  ...   \n",
      "\n",
      "   Terrain_relative_slope_position  Terrain_slope  Terrain_tca  Terrain_tpi  \\\n",
      "0                              0.0       0.356330     0.505664    -2.206822   \n",
      "1                              0.0       0.584360     0.418670    -2.186795   \n",
      "2                              0.0       0.151241     0.315889    -2.191868   \n",
      "3                              0.0       0.205279     1.459003    -2.241097   \n",
      "4                              0.0       0.527222     1.029005    -2.205703   \n",
      "5                              0.0       0.494150     0.933412    -2.169478   \n",
      "6                              0.0       0.590490     0.938897    -2.112762   \n",
      "7                              0.0       0.652273     0.878558    -2.040964   \n",
      "8                              0.0       0.598688     0.716250    -1.955182   \n",
      "9                              0.0       0.589603     0.651948    -1.909149   \n",
      "\n",
      "   Terrain_tri  Terrain_twi  Terrain_valley_depth  Terrain_vcurv      NDVI  \\\n",
      "0     0.246153     0.746420             56.263184      -0.000000  0.370072   \n",
      "1     0.186873    -0.080834             56.076660      -0.050795  0.358283   \n",
      "2     0.118157     1.088907             56.193300      -0.108422  0.360302   \n",
      "3     0.246047     2.302347             56.242860      -0.090756  0.331148   \n",
      "4     0.247017     0.922902             56.003174      -0.111283  0.376032   \n",
      "5     0.307126     1.074947             55.761597      -0.273254  0.417671   \n",
      "6     0.375629     0.822122             55.451294      -0.160310  0.353015   \n",
      "7     0.397852     0.650197             55.091614      -0.076775  0.261068   \n",
      "8     0.414679     0.532545             54.683470       0.006102  0.238666   \n",
      "9     0.324498     0.657242             54.411010      -0.023557  0.258042   \n",
      "\n",
      "    MS_NDWI  \n",
      "0 -0.416844  \n",
      "1 -0.418108  \n",
      "2 -0.410849  \n",
      "3 -0.401864  \n",
      "4 -0.454431  \n",
      "5 -0.486981  \n",
      "6 -0.424723  \n",
      "7 -0.348544  \n",
      "8 -0.338851  \n",
      "9 -0.360901  \n",
      "\n",
      "[10 rows x 28 columns]\n"
     ]
    },
    {
     "ename": "ParserError",
     "evalue": "Error tokenizing data. C error: Calling read(nbytes) on source failed. Try engine='python'.",
     "output_type": "error",
     "traceback": [
      "\u001b[1;31m---------------------------------------------------------------------------\u001b[0m",
      "\u001b[1;31mParserError\u001b[0m                               Traceback (most recent call last)",
      "Input \u001b[1;32mIn [4]\u001b[0m, in \u001b[0;36m<cell line: 3>\u001b[1;34m()\u001b[0m\n\u001b[0;32m      1\u001b[0m \u001b[38;5;66;03m# Example usage\u001b[39;00m\n\u001b[0;32m      2\u001b[0m csv_file \u001b[38;5;241m=\u001b[39m  \u001b[38;5;124mr\u001b[39m\u001b[38;5;124m'\u001b[39m\u001b[38;5;124mE:/South Thompson/NEW/combined26.csv\u001b[39m\u001b[38;5;124m'\u001b[39m\n\u001b[1;32m----> 3\u001b[0m \u001b[43mdisplay_csv_summary\u001b[49m\u001b[43m(\u001b[49m\u001b[43mcsv_file\u001b[49m\u001b[43m)\u001b[49m\n",
      "Input \u001b[1;32mIn [2]\u001b[0m, in \u001b[0;36mdisplay_csv_summary\u001b[1;34m(csv_file)\u001b[0m\n\u001b[0;32m     11\u001b[0m \u001b[38;5;66;03m# Read the last 10 rows\u001b[39;00m\n\u001b[0;32m     12\u001b[0m skip_rows \u001b[38;5;241m=\u001b[39m \u001b[38;5;28mmax\u001b[39m(\u001b[38;5;241m0\u001b[39m, total_rows \u001b[38;5;241m-\u001b[39m \u001b[38;5;241m10\u001b[39m)  \u001b[38;5;66;03m# Calculate rows to skip\u001b[39;00m\n\u001b[1;32m---> 13\u001b[0m last_10_rows \u001b[38;5;241m=\u001b[39m \u001b[43mpd\u001b[49m\u001b[38;5;241;43m.\u001b[39;49m\u001b[43mread_csv\u001b[49m\u001b[43m(\u001b[49m\u001b[43mcsv_file\u001b[49m\u001b[43m,\u001b[49m\u001b[43m \u001b[49m\u001b[43mskiprows\u001b[49m\u001b[38;5;241;43m=\u001b[39;49m\u001b[43mskip_rows\u001b[49m\u001b[43m)\u001b[49m\n\u001b[0;32m     14\u001b[0m \u001b[38;5;28mprint\u001b[39m(\u001b[38;5;124m\"\u001b[39m\u001b[38;5;130;01m\\n\u001b[39;00m\u001b[38;5;124mLast 10 rows:\u001b[39m\u001b[38;5;124m\"\u001b[39m)\n\u001b[0;32m     15\u001b[0m \u001b[38;5;28mprint\u001b[39m(last_10_rows)\n",
      "File \u001b[1;32mC:\\ProgramData\\Anaconda3\\lib\\site-packages\\pandas\\util\\_decorators.py:311\u001b[0m, in \u001b[0;36mdeprecate_nonkeyword_arguments.<locals>.decorate.<locals>.wrapper\u001b[1;34m(*args, **kwargs)\u001b[0m\n\u001b[0;32m    305\u001b[0m \u001b[38;5;28;01mif\u001b[39;00m \u001b[38;5;28mlen\u001b[39m(args) \u001b[38;5;241m>\u001b[39m num_allow_args:\n\u001b[0;32m    306\u001b[0m     warnings\u001b[38;5;241m.\u001b[39mwarn(\n\u001b[0;32m    307\u001b[0m         msg\u001b[38;5;241m.\u001b[39mformat(arguments\u001b[38;5;241m=\u001b[39marguments),\n\u001b[0;32m    308\u001b[0m         \u001b[38;5;167;01mFutureWarning\u001b[39;00m,\n\u001b[0;32m    309\u001b[0m         stacklevel\u001b[38;5;241m=\u001b[39mstacklevel,\n\u001b[0;32m    310\u001b[0m     )\n\u001b[1;32m--> 311\u001b[0m \u001b[38;5;28;01mreturn\u001b[39;00m func(\u001b[38;5;241m*\u001b[39margs, \u001b[38;5;241m*\u001b[39m\u001b[38;5;241m*\u001b[39mkwargs)\n",
      "File \u001b[1;32mC:\\ProgramData\\Anaconda3\\lib\\site-packages\\pandas\\io\\parsers\\readers.py:680\u001b[0m, in \u001b[0;36mread_csv\u001b[1;34m(filepath_or_buffer, sep, delimiter, header, names, index_col, usecols, squeeze, prefix, mangle_dupe_cols, dtype, engine, converters, true_values, false_values, skipinitialspace, skiprows, skipfooter, nrows, na_values, keep_default_na, na_filter, verbose, skip_blank_lines, parse_dates, infer_datetime_format, keep_date_col, date_parser, dayfirst, cache_dates, iterator, chunksize, compression, thousands, decimal, lineterminator, quotechar, quoting, doublequote, escapechar, comment, encoding, encoding_errors, dialect, error_bad_lines, warn_bad_lines, on_bad_lines, delim_whitespace, low_memory, memory_map, float_precision, storage_options)\u001b[0m\n\u001b[0;32m    665\u001b[0m kwds_defaults \u001b[38;5;241m=\u001b[39m _refine_defaults_read(\n\u001b[0;32m    666\u001b[0m     dialect,\n\u001b[0;32m    667\u001b[0m     delimiter,\n\u001b[1;32m   (...)\u001b[0m\n\u001b[0;32m    676\u001b[0m     defaults\u001b[38;5;241m=\u001b[39m{\u001b[38;5;124m\"\u001b[39m\u001b[38;5;124mdelimiter\u001b[39m\u001b[38;5;124m\"\u001b[39m: \u001b[38;5;124m\"\u001b[39m\u001b[38;5;124m,\u001b[39m\u001b[38;5;124m\"\u001b[39m},\n\u001b[0;32m    677\u001b[0m )\n\u001b[0;32m    678\u001b[0m kwds\u001b[38;5;241m.\u001b[39mupdate(kwds_defaults)\n\u001b[1;32m--> 680\u001b[0m \u001b[38;5;28;01mreturn\u001b[39;00m \u001b[43m_read\u001b[49m\u001b[43m(\u001b[49m\u001b[43mfilepath_or_buffer\u001b[49m\u001b[43m,\u001b[49m\u001b[43m \u001b[49m\u001b[43mkwds\u001b[49m\u001b[43m)\u001b[49m\n",
      "File \u001b[1;32mC:\\ProgramData\\Anaconda3\\lib\\site-packages\\pandas\\io\\parsers\\readers.py:575\u001b[0m, in \u001b[0;36m_read\u001b[1;34m(filepath_or_buffer, kwds)\u001b[0m\n\u001b[0;32m    572\u001b[0m _validate_names(kwds\u001b[38;5;241m.\u001b[39mget(\u001b[38;5;124m\"\u001b[39m\u001b[38;5;124mnames\u001b[39m\u001b[38;5;124m\"\u001b[39m, \u001b[38;5;28;01mNone\u001b[39;00m))\n\u001b[0;32m    574\u001b[0m \u001b[38;5;66;03m# Create the parser.\u001b[39;00m\n\u001b[1;32m--> 575\u001b[0m parser \u001b[38;5;241m=\u001b[39m TextFileReader(filepath_or_buffer, \u001b[38;5;241m*\u001b[39m\u001b[38;5;241m*\u001b[39mkwds)\n\u001b[0;32m    577\u001b[0m \u001b[38;5;28;01mif\u001b[39;00m chunksize \u001b[38;5;129;01mor\u001b[39;00m iterator:\n\u001b[0;32m    578\u001b[0m     \u001b[38;5;28;01mreturn\u001b[39;00m parser\n",
      "File \u001b[1;32mC:\\ProgramData\\Anaconda3\\lib\\site-packages\\pandas\\io\\parsers\\readers.py:933\u001b[0m, in \u001b[0;36mTextFileReader.__init__\u001b[1;34m(self, f, engine, **kwds)\u001b[0m\n\u001b[0;32m    930\u001b[0m     \u001b[38;5;28mself\u001b[39m\u001b[38;5;241m.\u001b[39moptions[\u001b[38;5;124m\"\u001b[39m\u001b[38;5;124mhas_index_names\u001b[39m\u001b[38;5;124m\"\u001b[39m] \u001b[38;5;241m=\u001b[39m kwds[\u001b[38;5;124m\"\u001b[39m\u001b[38;5;124mhas_index_names\u001b[39m\u001b[38;5;124m\"\u001b[39m]\n\u001b[0;32m    932\u001b[0m \u001b[38;5;28mself\u001b[39m\u001b[38;5;241m.\u001b[39mhandles: IOHandles \u001b[38;5;241m|\u001b[39m \u001b[38;5;28;01mNone\u001b[39;00m \u001b[38;5;241m=\u001b[39m \u001b[38;5;28;01mNone\u001b[39;00m\n\u001b[1;32m--> 933\u001b[0m \u001b[38;5;28mself\u001b[39m\u001b[38;5;241m.\u001b[39m_engine \u001b[38;5;241m=\u001b[39m \u001b[38;5;28;43mself\u001b[39;49m\u001b[38;5;241;43m.\u001b[39;49m\u001b[43m_make_engine\u001b[49m\u001b[43m(\u001b[49m\u001b[43mf\u001b[49m\u001b[43m,\u001b[49m\u001b[43m \u001b[49m\u001b[38;5;28;43mself\u001b[39;49m\u001b[38;5;241;43m.\u001b[39;49m\u001b[43mengine\u001b[49m\u001b[43m)\u001b[49m\n",
      "File \u001b[1;32mC:\\ProgramData\\Anaconda3\\lib\\site-packages\\pandas\\io\\parsers\\readers.py:1235\u001b[0m, in \u001b[0;36mTextFileReader._make_engine\u001b[1;34m(self, f, engine)\u001b[0m\n\u001b[0;32m   1232\u001b[0m     \u001b[38;5;28;01mraise\u001b[39;00m \u001b[38;5;167;01mValueError\u001b[39;00m(msg)\n\u001b[0;32m   1234\u001b[0m \u001b[38;5;28;01mtry\u001b[39;00m:\n\u001b[1;32m-> 1235\u001b[0m     \u001b[38;5;28;01mreturn\u001b[39;00m mapping[engine](f, \u001b[38;5;241m*\u001b[39m\u001b[38;5;241m*\u001b[39m\u001b[38;5;28mself\u001b[39m\u001b[38;5;241m.\u001b[39moptions)\n\u001b[0;32m   1236\u001b[0m \u001b[38;5;28;01mexcept\u001b[39;00m \u001b[38;5;167;01mException\u001b[39;00m:\n\u001b[0;32m   1237\u001b[0m     \u001b[38;5;28;01mif\u001b[39;00m \u001b[38;5;28mself\u001b[39m\u001b[38;5;241m.\u001b[39mhandles \u001b[38;5;129;01mis\u001b[39;00m \u001b[38;5;129;01mnot\u001b[39;00m \u001b[38;5;28;01mNone\u001b[39;00m:\n",
      "File \u001b[1;32mC:\\ProgramData\\Anaconda3\\lib\\site-packages\\pandas\\io\\parsers\\c_parser_wrapper.py:75\u001b[0m, in \u001b[0;36mCParserWrapper.__init__\u001b[1;34m(self, src, **kwds)\u001b[0m\n\u001b[0;32m     72\u001b[0m     kwds\u001b[38;5;241m.\u001b[39mpop(key, \u001b[38;5;28;01mNone\u001b[39;00m)\n\u001b[0;32m     74\u001b[0m kwds[\u001b[38;5;124m\"\u001b[39m\u001b[38;5;124mdtype\u001b[39m\u001b[38;5;124m\"\u001b[39m] \u001b[38;5;241m=\u001b[39m ensure_dtype_objs(kwds\u001b[38;5;241m.\u001b[39mget(\u001b[38;5;124m\"\u001b[39m\u001b[38;5;124mdtype\u001b[39m\u001b[38;5;124m\"\u001b[39m, \u001b[38;5;28;01mNone\u001b[39;00m))\n\u001b[1;32m---> 75\u001b[0m \u001b[38;5;28mself\u001b[39m\u001b[38;5;241m.\u001b[39m_reader \u001b[38;5;241m=\u001b[39m parsers\u001b[38;5;241m.\u001b[39mTextReader(src, \u001b[38;5;241m*\u001b[39m\u001b[38;5;241m*\u001b[39mkwds)\n\u001b[0;32m     77\u001b[0m \u001b[38;5;28mself\u001b[39m\u001b[38;5;241m.\u001b[39munnamed_cols \u001b[38;5;241m=\u001b[39m \u001b[38;5;28mself\u001b[39m\u001b[38;5;241m.\u001b[39m_reader\u001b[38;5;241m.\u001b[39munnamed_cols\n\u001b[0;32m     79\u001b[0m \u001b[38;5;66;03m# error: Cannot determine type of 'names'\u001b[39;00m\n",
      "File \u001b[1;32mC:\\ProgramData\\Anaconda3\\lib\\site-packages\\pandas\\_libs\\parsers.pyx:544\u001b[0m, in \u001b[0;36mpandas._libs.parsers.TextReader.__cinit__\u001b[1;34m()\u001b[0m\n",
      "File \u001b[1;32mC:\\ProgramData\\Anaconda3\\lib\\site-packages\\pandas\\_libs\\parsers.pyx:633\u001b[0m, in \u001b[0;36mpandas._libs.parsers.TextReader._get_header\u001b[1;34m()\u001b[0m\n",
      "File \u001b[1;32mC:\\ProgramData\\Anaconda3\\lib\\site-packages\\pandas\\_libs\\parsers.pyx:847\u001b[0m, in \u001b[0;36mpandas._libs.parsers.TextReader._tokenize_rows\u001b[1;34m()\u001b[0m\n",
      "File \u001b[1;32mC:\\ProgramData\\Anaconda3\\lib\\site-packages\\pandas\\_libs\\parsers.pyx:1960\u001b[0m, in \u001b[0;36mpandas._libs.parsers.raise_parser_error\u001b[1;34m()\u001b[0m\n",
      "\u001b[1;31mParserError\u001b[0m: Error tokenizing data. C error: Calling read(nbytes) on source failed. Try engine='python'."
     ]
    }
   ],
   "source": [
    "# Example usage\n",
    "csv_file =  r'E:/South Thompson/NEW/combined26.csv'\n",
    "display_csv_summary(csv_file)"
   ]
  },
  {
   "cell_type": "code",
   "execution_count": 4,
   "id": "c72b8c2b",
   "metadata": {},
   "outputs": [
    {
     "name": "stdout",
     "output_type": "stream",
     "text": [
      "Total number of rows: 97668529\n",
      "\n",
      "First 10 rows:\n",
      "     Latitude  Longitude   MS_NDWI\n",
      "0  1400299.25  648376.25 -0.416844\n",
      "1  1400299.75  648376.25 -0.418108\n",
      "2  1400299.25  648375.75 -0.410849\n",
      "3  1400299.75  648375.75 -0.401864\n",
      "4  1400300.25  648375.75 -0.454431\n",
      "5  1400300.75  648375.75 -0.486981\n",
      "6  1400301.25  648375.75 -0.424723\n",
      "7  1400301.75  648375.75 -0.348544\n",
      "8  1400302.25  648375.75 -0.338851\n",
      "9  1400302.75  648375.75 -0.360901\n",
      "\n",
      "Last 10 rows:\n",
      "   1414834.25  645066.25  -0.19771819\n",
      "0  1414834.75  645066.25    -0.228359\n",
      "1  1414835.25  645066.25    -0.267335\n",
      "2  1414835.75  645066.25    -0.264515\n",
      "3  1414836.25  645066.25    -0.232476\n",
      "4  1414833.75  645065.75    -0.344328\n",
      "5  1414834.25  645065.75    -0.355886\n",
      "6  1414834.75  645065.75    -0.415940\n",
      "7  1414835.25  645065.75    -0.424063\n",
      "8  1414835.75  645065.75    -0.379837\n",
      "9  1414836.25  645065.75    -0.321566\n"
     ]
    }
   ],
   "source": [
    "# Example usage\n",
    "csv_file = r'D:/South Thompson/separate csvs with coord/Begi/MS_NDWI.csv'\n",
    "display_csv_summary(csv_file)"
   ]
  },
  {
   "cell_type": "code",
   "execution_count": 5,
   "id": "825aaa6f",
   "metadata": {},
   "outputs": [
    {
     "name": "stdout",
     "output_type": "stream",
     "text": [
      "Total number of rows: 97343852\n",
      "\n",
      "First 10 rows:\n",
      "            X          Y    aspect\n",
      "0  1400299.25  648376.25  5.072158\n",
      "1  1400299.75  648376.25  4.170292\n",
      "2  1400300.25  648376.25  4.004757\n",
      "3  1400299.25  648375.75  2.192349\n",
      "4  1400299.75  648375.75  4.059625\n",
      "5  1400300.25  648375.75  4.043305\n",
      "6  1400300.75  648375.75  4.507250\n",
      "7  1400301.25  648375.75  4.441269\n",
      "8  1400301.75  648375.75  4.483613\n",
      "9  1400302.25  648375.75  4.439079\n",
      "\n",
      "Last 10 rows:\n",
      "   1414831.75  645065.75  0.41058865\n",
      "0  1414832.25  645065.75    0.409262\n",
      "1  1414832.75  645065.75    0.375889\n",
      "2  1414833.25  645065.75    0.052411\n",
      "3  1414833.75  645065.75    5.869305\n",
      "4  1414834.25  645065.75    5.724586\n",
      "5  1414834.75  645065.75    6.240758\n",
      "6  1414835.25  645065.75    0.479874\n",
      "7  1414835.75  645065.75    0.465183\n",
      "8  1414835.25  645065.25    0.466712\n",
      "9  1414835.75  645065.25    0.467742\n"
     ]
    }
   ],
   "source": [
    "# Example usage\n",
    "csv_file = r'D:/South Thompson/separate coord/Terrain_aspect.csv'\n",
    "display_csv_summary(csv_file)"
   ]
  },
  {
   "cell_type": "code",
   "execution_count": 6,
   "id": "6944fee7",
   "metadata": {},
   "outputs": [
    {
     "name": "stdout",
     "output_type": "stream",
     "text": [
      "Total number of rows: 97723510\n",
      "\n",
      "First 10 rows:\n",
      "     Latitude  Longitude    MS_EVI  MS_GNDVI  MS_MSAVI  MS_MSAVI2    MS_RVI  \\\n",
      "0  1400299.25  648376.25  0.201649  0.416844  0.022500   0.169442  0.459777   \n",
      "1  1400299.75  648376.25  0.197016  0.418108  0.015439   0.166107  0.472447   \n",
      "2  1400299.25  648375.75  0.190691  0.410849  0.016375   0.163584  0.470262   \n",
      "3  1400299.75  648375.75  0.175916  0.401864 -0.001335   0.151781  0.502463   \n",
      "4  1400300.25  648375.75  0.214259  0.454431  0.027545   0.182095  0.453454   \n",
      "5  1400300.75  648375.75  0.248673  0.486981  0.055050   0.203986  0.410764   \n",
      "6  1400301.25  648375.75  0.198513  0.424723  0.012199   0.164038  0.478180   \n",
      "7  1400301.75  648375.75  0.135422  0.348544 -0.043367   0.118114  0.585957   \n",
      "8  1400302.25  648375.75  0.119027  0.338851 -0.055900   0.106300  0.614641   \n",
      "9  1400302.75  648375.75  0.128040  0.360901 -0.043781   0.112834  0.589773   \n",
      "\n",
      "   Terrain_aspect  Terrain_chnl_base  Terrain_chnl_dist  ...  \\\n",
      "0        5.072158          361.95224                0.0  ...   \n",
      "1        4.170292          362.12643                0.0  ...   \n",
      "2        2.192349          362.01776                0.0  ...   \n",
      "3        4.059625          361.95580                0.0  ...   \n",
      "4        4.043305          362.18317                0.0  ...   \n",
      "5        4.507250          362.41248                0.0  ...   \n",
      "6        4.441269          362.71060                0.0  ...   \n",
      "7        4.483613          363.05826                0.0  ...   \n",
      "8        4.439079          363.45450                0.0  ...   \n",
      "9        4.702170          363.71515                0.0  ...   \n",
      "\n",
      "   Terrain_openness_neg  Terrain_openness_pos  \\\n",
      "0                   NaN                   NaN   \n",
      "1                   NaN                   NaN   \n",
      "2                   NaN                   NaN   \n",
      "3              1.692442              1.278615   \n",
      "4                   NaN                   NaN   \n",
      "5                   NaN                   NaN   \n",
      "6                   NaN                   NaN   \n",
      "7                   NaN                   NaN   \n",
      "8                   NaN                   NaN   \n",
      "9                   NaN                   NaN   \n",
      "\n",
      "   Terrain_relative_slope_position  Terrain_slope  Terrain_tca  Terrain_tpi  \\\n",
      "0                              0.0       0.356330     0.505664    -2.206822   \n",
      "1                              0.0       0.584360     0.418670    -2.186795   \n",
      "2                              0.0       0.151241     0.315889    -2.191868   \n",
      "3                              0.0       0.205279     1.459003    -2.241097   \n",
      "4                              0.0       0.527222     1.029005    -2.205703   \n",
      "5                              0.0       0.494150     0.933412    -2.169478   \n",
      "6                              0.0       0.590490     0.938897    -2.112762   \n",
      "7                              0.0       0.652273     0.878558    -2.040964   \n",
      "8                              0.0       0.598688     0.716250    -1.955182   \n",
      "9                              0.0       0.589603     0.651948    -1.909149   \n",
      "\n",
      "   Terrain_tri  Terrain_twi  Terrain_valley_depth  Terrain_vcurv  \n",
      "0     0.246153     0.746420             56.263184      -0.000000  \n",
      "1     0.186873    -0.080834             56.076660      -0.050795  \n",
      "2     0.118157     1.088907             56.193300      -0.108422  \n",
      "3     0.246047     2.302347             56.242860      -0.090756  \n",
      "4     0.247017     0.922902             56.003174      -0.111283  \n",
      "5     0.307126     1.074947             55.761597      -0.273254  \n",
      "6     0.375629     0.822122             55.451294      -0.160310  \n",
      "7     0.397852     0.650197             55.091614      -0.076775  \n",
      "8     0.414679     0.532545             54.683470       0.006102  \n",
      "9     0.324498     0.657242             54.411010      -0.023557  \n",
      "\n",
      "[10 rows x 26 columns]\n",
      "\n",
      "Last 10 rows:\n",
      "   1414831.75  645065.75  Unnamed: 2  Unnamed: 3  Unnamed: 4  Unnamed: 5  \\\n",
      "0  1414832.25  645065.75         NaN         NaN         NaN         NaN   \n",
      "1  1414832.75  645065.75         NaN         NaN         NaN         NaN   \n",
      "2  1414833.25  645065.75         NaN         NaN         NaN         NaN   \n",
      "3  1414835.25  645065.25         NaN         NaN         NaN         NaN   \n",
      "4  1414835.75  645065.25         NaN         NaN         NaN         NaN   \n",
      "5  1414866.25  646467.25         NaN         NaN         NaN         NaN   \n",
      "6  1414871.75  646463.25         NaN         NaN         NaN         NaN   \n",
      "7  1408869.25  646349.25         NaN         NaN         NaN         NaN   \n",
      "8  1408867.25  646348.25         NaN         NaN         NaN         NaN   \n",
      "9  1408865.25  646347.25         NaN         NaN         NaN         NaN   \n",
      "\n",
      "   Unnamed: 6  0.41058865  335.77972       0.0  ...  Unnamed: 16  Unnamed: 17  \\\n",
      "0         NaN    0.409262  335.77550  0.000000  ...          NaN          NaN   \n",
      "1         NaN    0.375889  335.77133  0.000000  ...          NaN          NaN   \n",
      "2         NaN    0.052411  335.76785  0.000000  ...          NaN          NaN   \n",
      "3         NaN    0.466712  335.78920  0.000000  ...          NaN          NaN   \n",
      "4         NaN    0.467742  335.78320  0.000000  ...          NaN          NaN   \n",
      "5         NaN         NaN  476.87810  0.000000  ...     1.530440     1.409906   \n",
      "6         NaN         NaN  476.78604  0.001770  ...     1.520478     1.392732   \n",
      "7         NaN         NaN  399.11108  0.000702  ...     1.479804     1.038444   \n",
      "8         NaN         NaN  399.11470  0.001923  ...     1.484924     1.033991   \n",
      "9         NaN         NaN  399.12073  0.000732  ...     1.487743     1.037636   \n",
      "\n",
      "      0.0.1  0.021098886           0.25  -0.17167175  0.010383078   2.890616  \\\n",
      "0  0.000000     0.021087       0.289324    -0.172333     0.009903   3.037803   \n",
      "1  0.000000     0.020863       0.291387    -0.173054     0.009223   3.069408   \n",
      "2  0.000000     0.018639       0.315950    -0.173554     0.008661   3.473594   \n",
      "3  0.000000     0.026716       0.250000    -0.163681     0.012986   2.634186   \n",
      "4  0.000000     0.026662       0.290590    -0.164765     0.012497   2.786342   \n",
      "5  0.000000     0.000000    8698.873000    -0.326523     0.052825  25.383114   \n",
      "6  0.000091     0.000000      24.948997    -0.346841     0.073311  19.528997   \n",
      "7  0.000027     0.000000  561275.940000    -4.097930     0.141324  29.550133   \n",
      "8  0.000071     0.000000  561127.500000    -4.226016     0.027129  29.549868   \n",
      "9  0.000026     0.000000  560828.000000    -4.350093     0.002155  29.549334   \n",
      "\n",
      "    39.30945    -0.0.1  \n",
      "0  39.309753 -0.000865  \n",
      "1  39.309998  0.001039  \n",
      "2  39.309570  0.000002  \n",
      "3  39.272827 -0.000000  \n",
      "4  39.275270 -0.000000  \n",
      "5  19.278442  0.047842  \n",
      "6  19.500366  0.040967  \n",
      "7  26.223877 -0.021373  \n",
      "8  27.007324 -0.146272  \n",
      "9  27.776978 -0.237643  \n",
      "\n",
      "[10 rows x 26 columns]\n"
     ]
    }
   ],
   "source": [
    "# Example usage\n",
    "csv_file = r'D:/South Thompson/combined.csv'\n",
    "display_csv_summary(csv_file)"
   ]
  },
  {
   "cell_type": "code",
   "execution_count": 8,
   "id": "c8f25457",
   "metadata": {},
   "outputs": [
    {
     "name": "stdout",
     "output_type": "stream",
     "text": [
      "Total number of rows: 97667406\n",
      "\n",
      "First 10 rows:\n",
      "     Latitude  Longitude      NDVI\n",
      "0  1400299.25  648376.25  0.370072\n",
      "1  1400299.75  648376.25  0.358283\n",
      "2  1400299.25  648375.75  0.360302\n",
      "3  1400299.75  648375.75  0.331148\n",
      "4  1400300.25  648375.75  0.376032\n",
      "5  1400300.75  648375.75  0.417671\n",
      "6  1400301.25  648375.75  0.353015\n",
      "7  1400301.75  648375.75  0.261068\n",
      "8  1400302.25  648375.75  0.238666\n",
      "9  1400302.75  648375.75  0.258042\n",
      "\n",
      "Last 10 rows:\n",
      "   1414834.25  645066.25  0.10540316\n",
      "0  1414834.75  645066.25    0.146073\n",
      "1  1414835.25  645066.25    0.193178\n",
      "2  1414835.75  645066.25    0.191234\n",
      "3  1414836.25  645066.25    0.151413\n",
      "4  1414833.75  645065.75    0.247878\n",
      "5  1414834.25  645065.75    0.275671\n",
      "6  1414834.75  645065.75    0.357837\n",
      "7  1414835.25  645065.75    0.353787\n",
      "8  1414835.75  645065.75    0.292317\n",
      "9  1414836.25  645065.75    0.228401\n"
     ]
    }
   ],
   "source": [
    "# Example usage\n",
    "csv_file = r'C:/Users/T00701453.MYTRU/OneDrive - Thompson Rivers University/Desktop/AuroraCode/st extraction codes/MS_NDVI.csv'\n",
    "display_csv_summary(csv_file)"
   ]
  },
  {
   "cell_type": "markdown",
   "id": "28d4e39a-2a5f-4711-bc1f-be277ea535c5",
   "metadata": {
    "jp-MarkdownHeadingCollapsed": true
   },
   "source": [
    "# Comparing csvs"
   ]
  },
  {
   "cell_type": "code",
   "execution_count": 7,
   "id": "8451d79c",
   "metadata": {},
   "outputs": [],
   "source": [
    "def compare_csv_files(file1, file2, chunk_size=1000):\n",
    "    mismatch_count = 0\n",
    "    chunk_num = 0\n",
    "    \n",
    "    # Open both files using pandas in chunks\n",
    "    file1_chunks = pd.read_csv(file1, chunksize=chunk_size)\n",
    "    file2_chunks = pd.read_csv(file2, chunksize=chunk_size)\n",
    "\n",
    "    for chunk1, chunk2 in zip(file1_chunks, file2_chunks):\n",
    "        chunk_num += 1\n",
    "        # Ensure the chunks are identical in shape and data\n",
    "        if not chunk1.equals(chunk2):\n",
    "            # Count mismatched rows\n",
    "            mismatch = ~chunk1.eq(chunk2).all(axis=1)\n",
    "            mismatch_count += mismatch.sum()\n",
    "    \n",
    "    # Check if there are remaining chunks in one of the files\n",
    "    if any(file1_chunks) or any(file2_chunks):\n",
    "        raise ValueError(\"Files do not have the same number of rows.\")\n",
    "    \n",
    "    print(f\"Total mismatched rows: {mismatch_count}\")"
   ]
  },
  {
   "cell_type": "code",
   "execution_count": 9,
   "id": "83c3b921",
   "metadata": {},
   "outputs": [
    {
     "name": "stdout",
     "output_type": "stream",
     "text": [
      "Total mismatched rows: 97667406\n"
     ]
    }
   ],
   "source": [
    "# Example usage\n",
    "file1 = r'C:/Users/T00701453/Downloads/MS_NDVI.csv'\n",
    "file2 = r'C:/Users/T00701453/Downloads/new just converted/ms_ndvi.csv'\n",
    "compare_csv_files(file1, file2)"
   ]
  }
 ],
 "metadata": {
  "kernelspec": {
   "display_name": "Python 3 (ipykernel)",
   "language": "python",
   "name": "python3"
  },
  "language_info": {
   "codemirror_mode": {
    "name": "ipython",
    "version": 3
   },
   "file_extension": ".py",
   "mimetype": "text/x-python",
   "name": "python",
   "nbconvert_exporter": "python",
   "pygments_lexer": "ipython3",
   "version": "3.12.2"
  }
 },
 "nbformat": 4,
 "nbformat_minor": 5
}
